{
 "metadata": {
  "name": "",
  "signature": "sha256:dcd57d276daa68abf62abbda697c54b1f1eebce3cf20719837e499684d7707a9"
 },
 "nbformat": 3,
 "nbformat_minor": 0,
 "worksheets": [
  {
   "cells": [
    {
     "cell_type": "code",
     "collapsed": false,
     "input": [
      "from collections import Counter\n",
      "from itertools import product\n",
      "import numpy as np\n",
      "from scipy import stats\n",
      "from history_diagnostics import targetspace"
     ],
     "language": "python",
     "metadata": {},
     "outputs": [],
     "prompt_number": 39
    },
    {
     "cell_type": "code",
     "collapsed": false,
     "input": [
      "%pylab"
     ],
     "language": "python",
     "metadata": {},
     "outputs": [
      {
       "output_type": "stream",
       "stream": "stdout",
       "text": [
        "Using matplotlib backend: Qt4Agg\n",
        "Populating the interactive namespace from numpy and matplotlib\n"
       ]
      }
     ],
     "prompt_number": 9
    },
    {
     "cell_type": "markdown",
     "metadata": {},
     "source": [
      "## Evaluate bootstrap cdf method"
     ]
    },
    {
     "cell_type": "code",
     "collapsed": false,
     "input": [
      "def evaluate_bootstrap_cdfs(metric, gen_func, n_bs_ref=200, n_test=500):\n",
      "    ref_sample = gen_func()\n",
      "    metric_sample = np.fromiter((metric(np.random.choice(ref_sample, len(ref_sample))) for _ in range(n_bs_ref)),\n",
      "                          dtype=float, count=n_bs_ref)\n",
      "    cdf = targetspace.MetricCDF(metric_sample)\n",
      "    p_better = np.asarray([cdf(metric(gen_func())) for _ in range(n_test)])\n",
      "    return p_better, cdf\n",
      "\n",
      "def evaluate_bootstrap_cdfs_2(metric, gen_func, n_bs_ref=200, n_test=500):\n",
      "    p_better = []\n",
      "    for _ in range(n_test):\n",
      "        ref_sample = gen_func()\n",
      "        test_sample = gen_func()\n",
      "        metric_sample = np.fromiter((metric(np.random.choice(ref_sample, len(ref_sample))) for _ in range(n_bs_ref)),\n",
      "                                    dtype=float, count=n_bs_ref)\n",
      "        cdf = targetspace.MetricCDF(metric_sample)\n",
      "        p_better.append(cdf(metric(test_sample)))\n",
      "    return np.asarray(p_better)"
     ],
     "language": "python",
     "metadata": {},
     "outputs": [],
     "prompt_number": 35
    },
    {
     "cell_type": "code",
     "collapsed": false,
     "input": [
      "p_better = evaluate_bootstrap_cdfs_2(lambda s: s.sum() / len(s),\n",
      "                                        lambda: np.random.binomial(1, 0.1, 1000),\n",
      "                                        n_bs_ref=100,\n",
      "                                        n_test=1000)"
     ],
     "language": "python",
     "metadata": {},
     "outputs": [],
     "prompt_number": 36
    },
    {
     "cell_type": "code",
     "collapsed": false,
     "input": [
      "print(1/len(p_better))\n",
      "for significance in (0.01, 0.02, 0.03, 0.04, 0.05, 0.1, 0.2, 0.3, 0.4, 0.5):\n",
      "    print(\"{:.3f} {}\".format(significance, ((1-p_better) <= significance).sum() / len(p_better)))"
     ],
     "language": "python",
     "metadata": {},
     "outputs": [
      {
       "output_type": "stream",
       "stream": "stdout",
       "text": [
        "0.001\n",
        "0.010 0.06\n",
        "0.020 0.08\n",
        "0.030 0.098\n",
        "0.040 0.122\n",
        "0.050 0.133\n",
        "0.100 0.192\n",
        "0.200 0.296\n",
        "0.300 0.364\n",
        "0.400 0.447\n",
        "0.500 0.514\n"
       ]
      }
     ],
     "prompt_number": 20
    },
    {
     "cell_type": "code",
     "collapsed": false,
     "input": [
      "figure()\n",
      "hist(p_better, linspace(0, 1, 101), normed=True, cumulative=True)\n",
      "plot([0,1], [0,1], 'r--', lw=4)"
     ],
     "language": "python",
     "metadata": {},
     "outputs": [
      {
       "metadata": {},
       "output_type": "pyout",
       "prompt_number": 37,
       "text": [
        "[<matplotlib.lines.Line2D at 0x7f1a3913d828>]"
       ]
      }
     ],
     "prompt_number": 37
    },
    {
     "cell_type": "code",
     "collapsed": false,
     "input": [
      "def plot_p_better_cdfs_Binomial(n_bs_ref, n_test=1000):\n",
      "    figure()\n",
      "    suptitle(\"Binomial(1, p, n) with n_bs_ref={}\".format(n_bs_ref))\n",
      "    plot([0,1], [0,1], \"r--\", lw=2)\n",
      "    bins = linspace(0, 1, 101)\n",
      "    def metric(s):\n",
      "        return s.sum() / len(s)\n",
      "    sarmp_size_max_exp = 5\n",
      "    for p_exp in range(1, samp_size_max_exp):\n",
      "        p = 10**(-p_exp)\n",
      "        for samp_size_exp in range(p_exp+1, samp_size_max_exp+1):\n",
      "            samp_size = 10**samp_size_exp\n",
      "            print(p, samp_size)\n",
      "            samp_gen = lambda: np.random.binomial(1, p, size=samp_size)\n",
      "            p_better = evaluate_bootstrap_cdfs_2(metric, samp_gen, n_bs_ref, n_test)\n",
      "            hist(p_better, bins, cumulative=True, normed=True, histtype=\"step\",\n",
      "                 label=\"p=10^-{} n=10^{}\".format(p_exp, samp_size_exp))\n",
      "    legend(loc='best')"
     ],
     "language": "python",
     "metadata": {},
     "outputs": [],
     "prompt_number": 58
    },
    {
     "cell_type": "code",
     "collapsed": false,
     "input": [
      "plot_p_better_cdfs_Binomial(500)"
     ],
     "language": "python",
     "metadata": {},
     "outputs": [
      {
       "output_type": "stream",
       "stream": "stdout",
       "text": [
        "0.1 100\n",
        "0.1"
       ]
      },
      {
       "output_type": "stream",
       "stream": "stdout",
       "text": [
        " 1000\n",
        "0.1"
       ]
      },
      {
       "output_type": "stream",
       "stream": "stdout",
       "text": [
        " 10000\n",
        "0.1"
       ]
      },
      {
       "output_type": "stream",
       "stream": "stdout",
       "text": [
        " 100000\n",
        "0.01"
       ]
      },
      {
       "output_type": "stream",
       "stream": "stdout",
       "text": [
        " 1000\n",
        "0.01"
       ]
      },
      {
       "output_type": "stream",
       "stream": "stdout",
       "text": [
        " 10000\n",
        "0.01"
       ]
      },
      {
       "output_type": "stream",
       "stream": "stdout",
       "text": [
        " 100000\n",
        "0.001"
       ]
      },
      {
       "output_type": "stream",
       "stream": "stdout",
       "text": [
        " 10000\n",
        "0.001"
       ]
      },
      {
       "output_type": "stream",
       "stream": "stdout",
       "text": [
        " 100000\n",
        "0.0001"
       ]
      },
      {
       "output_type": "stream",
       "stream": "stdout",
       "text": [
        " 100000\n"
       ]
      }
     ],
     "prompt_number": 59
    },
    {
     "cell_type": "code",
     "collapsed": false,
     "input": [
      "plot([0,1], [0,1], \"r--\")\n",
      "xlabel(\"P(better)\")\n",
      "ylabel(\"cumulative frequency\")"
     ],
     "language": "python",
     "metadata": {},
     "outputs": [
      {
       "metadata": {},
       "output_type": "pyout",
       "prompt_number": 49,
       "text": [
        "<matplotlib.text.Text at 0x7f1a2bf4ee10>"
       ]
      }
     ],
     "prompt_number": 49
    },
    {
     "cell_type": "code",
     "collapsed": false,
     "input": [
      "f = gcf()"
     ],
     "language": "python",
     "metadata": {},
     "outputs": [],
     "prompt_number": 50
    },
    {
     "cell_type": "code",
     "collapsed": false,
     "input": [
      "t = f.texts[0]"
     ],
     "language": "python",
     "metadata": {},
     "outputs": [],
     "prompt_number": 52
    },
    {
     "cell_type": "code",
     "collapsed": false,
     "input": [
      "t.set_text(\"Binomial(1, p, n)  n_bs_ref=100\")"
     ],
     "language": "python",
     "metadata": {},
     "outputs": [],
     "prompt_number": 54
    },
    {
     "cell_type": "code",
     "collapsed": false,
     "input": [
      "cdf = targetspace.MetricCDF(np.arange(5))"
     ],
     "language": "python",
     "metadata": {},
     "outputs": [],
     "prompt_number": 33
    },
    {
     "cell_type": "code",
     "collapsed": false,
     "input": [
      "cdf.index(0), cdf(0)"
     ],
     "language": "python",
     "metadata": {},
     "outputs": [
      {
       "metadata": {},
       "output_type": "pyout",
       "prompt_number": 38,
       "text": [
        "(1, 0.80000000000000004)"
       ]
      }
     ],
     "prompt_number": 38
    },
    {
     "cell_type": "code",
     "collapsed": true,
     "input": [
      "np.searchsorted(np.arange(5), 0, side='right')"
     ],
     "language": "python",
     "metadata": {},
     "outputs": [
      {
       "metadata": {},
       "output_type": "pyout",
       "prompt_number": 4,
       "text": [
        "1"
       ]
      }
     ],
     "prompt_number": 4
    },
    {
     "cell_type": "code",
     "collapsed": false,
     "input": [
      "import importlib"
     ],
     "language": "python",
     "metadata": {},
     "outputs": [],
     "prompt_number": 24
    },
    {
     "cell_type": "code",
     "collapsed": false,
     "input": [
      "import history_diagnostics.stats\n",
      "importlib.reload(history_diagnostics.stats)\n",
      "importlib.reload(targetspace)"
     ],
     "language": "python",
     "metadata": {},
     "outputs": [
      {
       "metadata": {},
       "output_type": "pyout",
       "prompt_number": 32,
       "text": [
        "<module 'history_diagnostics.targetspace' from '/home/eike/fdx/work-packages/history-diagnostics/history_diagnostics/targetspace.py'>"
       ]
      }
     ],
     "prompt_number": 32
    },
    {
     "cell_type": "code",
     "collapsed": false,
     "input": [
      "cdf2 = history_diagnostics.stats.MetricCDF(np.arange(5))\n",
      "cdf2.index(0), cdf2(0)"
     ],
     "language": "python",
     "metadata": {},
     "outputs": [
      {
       "metadata": {},
       "output_type": "pyout",
       "prompt_number": 29,
       "text": [
        "(1, 0.80000000000000004)"
       ]
      }
     ],
     "prompt_number": 29
    },
    {
     "cell_type": "markdown",
     "metadata": {},
     "source": [
      "Define test samples"
     ]
    },
    {
     "cell_type": "code",
     "collapsed": false,
     "input": [
      "ref = targetspace.Sample.generate(0, 1, 1000,\n",
      "                                  performance=(\"float\",\n",
      "                                               lambda times: np.abs(stats.norm.rvs(loc=4.5, scale=0.54, size=times.size))),\n",
      "                                  error=(bool, lambda times: stats.binom.rvs(1, 0.05, size=times.size)),\n",
      "                                  freq_evt=(bool, lambda times: stats.binom.rvs(1, 0.2, size=times.size)),\n",
      "                                  rare_evt=(bool, lambda times: stats.binom.rvs(1, 0.01, size=times.size)))\n",
      "same = targetspace.Sample.generate(0, 1, 1000,\n",
      "                                   performance=(\"float\",\n",
      "                                                lambda times: np.abs(stats.norm.rvs(loc=4.5, scale=0.54, size=times.size))),\n",
      "                                   error=(bool, lambda times: stats.binom.rvs(1, 0.05, size=times.size)),\n",
      "                                   freq_evt=(bool, lambda times: stats.binom.rvs(1, 0.2, size=times.size)),\n",
      "                                   rare_evt=(bool, lambda times: stats.binom.rvs(1, 0.01, size=times.size)))"
     ],
     "language": "python",
     "metadata": {},
     "outputs": [],
     "prompt_number": 2
    },
    {
     "cell_type": "markdown",
     "metadata": {},
     "source": [
      "## Test recall\n",
      "\n",
      "How often are two i.i.d. samples marked as distinct; which metric is responsible?\n",
      "\n",
      "The expected false-positive probability for `OneMinusMaxMixin` is \n",
      "$$\n",
      "1 - P[ \\text{all metric p-values above significance} ]\n",
      "\\\\ = 1 - P[ \\text{p-value} > \\mathit{significance} ]^{n_\\mathit{metrics}}\n",
      "\\\\ = 1 - (1-\\mathit{significance})^{n_\\mathit{metrics}}\n",
      "$$."
     ]
    },
    {
     "cell_type": "markdown",
     "metadata": {},
     "source": [
      "### Test of above formula:"
     ]
    },
    {
     "cell_type": "code",
     "collapsed": false,
     "input": [
      "n_tests = 10000\n",
      "n_metrics = 4\n",
      "significance = 0.02\n",
      "t = (np.random.rand(n_tests, n_metrics) < significance).any(axis=1)\n",
      "print(t.sum() / n_tests, 1 - (1-significance)**n_metrics)"
     ],
     "language": "python",
     "metadata": {},
     "outputs": [
      {
       "output_type": "stream",
       "stream": "stdout",
       "text": [
        "0.0766 0.07763184000000012\n"
       ]
      }
     ],
     "prompt_number": 10
    },
    {
     "cell_type": "code",
     "collapsed": false,
     "input": [
      "metric_generators = dict(performance=(\"float\", lambda times: np.abs(stats.norm.rvs(loc=4.5, scale=0.54, size=times.size))),\n",
      "                         error=(bool, lambda times: stats.binom.rvs(1, 0.05, size=times.size)),\n",
      "                         freq_evt=(bool, lambda times: stats.binom.rvs(1, 0.2, size=times.size)),\n",
      "                         rare_evt=(bool, lambda times: stats.binom.rvs(1, 0.01, size=times.size)))"
     ],
     "language": "python",
     "metadata": {},
     "outputs": [],
     "prompt_number": 3
    },
    {
     "cell_type": "markdown",
     "metadata": {},
     "source": [
      "### Test with real data"
     ]
    },
    {
     "cell_type": "code",
     "collapsed": false,
     "input": [
      "@targetspace.metric_directions(\"upper\", \"lower\", \"lower\", \"upper\", \"upper\")\n",
      "@targetspace.metric_ranges((0, None), (0, None), (0, 1), (0, 1), (0, 1))\n",
      "def calc_context(sample):\n",
      "    n_requests = len(sample)\n",
      "    if n_requests == 0:\n",
      "        return 0, 0, 0, 0, 0\n",
      "    \n",
      "    return (n_requests / sample.duration,\n",
      "            np.median(sample.requests.performance),\n",
      "            sample.requests.error.sum() / n_requests,\n",
      "            sample.requests.freq_evt.sum() / n_requests,\n",
      "            sample.requests.rare_evt.sum() / n_requests)\n",
      "\n",
      "class RecordingOneMinusMaxMixin(targetspace.OneMinusMaxMixin):\n",
      "    def combine_evaluated_metrics(self, evaluated):\n",
      "        i_max = evaluated.argmax()\n",
      "        self.max_metrics.append(i_max)\n",
      "        return evaluated[i_max]\n",
      "\n",
      "class TestTargetSpace(RecordingOneMinusMaxMixin, targetspace.TargetSpace):\n",
      "    def __init__(self, sample):\n",
      "        self.max_metrics = []\n",
      "        super().__init__(calc_context, sample)"
     ],
     "language": "python",
     "metadata": {},
     "outputs": [],
     "prompt_number": 36
    },
    {
     "cell_type": "code",
     "collapsed": false,
     "input": [
      "def run_test(n_requests, n_tests):\n",
      "    locs = np.empty(n_tests)\n",
      "    max_metrics = []\n",
      "    for i in range(n_tests):\n",
      "        print(\".\", end=\"\")\n",
      "        if (i + 1) % 100 == 0:\n",
      "            print()\n",
      "        a = targetspace.Sample.generate(0, 1, n_requests, **metric_generators)\n",
      "        b = targetspace.Sample.generate(0, 1, n_requests, **metric_generators)\n",
      "        ts = TestTargetSpace(a)\n",
      "        ts.calibrate(1.0, 200, 0.01)\n",
      "        locs[i] = ts.locate(b)\n",
      "        max_metrics.append(ts.max_metrics[-1])"
     ],
     "language": "python",
     "metadata": {},
     "outputs": [],
     "prompt_number": 40
    },
    {
     "cell_type": "code",
     "collapsed": false,
     "input": [
      "Counter(max_metrics)"
     ],
     "language": "python",
     "metadata": {},
     "outputs": [
      {
       "metadata": {},
       "output_type": "pyout",
       "prompt_number": 39,
       "text": [
        "Counter({1: 302, 2: 280, 3: 233, 4: 122, 0: 63})"
       ]
      }
     ],
     "prompt_number": 39
    },
    {
     "cell_type": "code",
     "collapsed": false,
     "input": [
      "max_metrics = np.array(max_metrics)"
     ],
     "language": "python",
     "metadata": {},
     "outputs": [],
     "prompt_number": 41
    },
    {
     "cell_type": "code",
     "collapsed": false,
     "input": [
      "for i in range(5):\n",
      "    idx = max_metrics == i\n",
      "    print(i, idx.sum(), np.percentile(locs[idx], (100, 99, 95, 90, 75, 50)))"
     ],
     "language": "python",
     "metadata": {},
     "outputs": [
      {
       "output_type": "stream",
       "stream": "stdout",
       "text": [
        "0 63 [0.56000000000000005, 0.54760000000000009, 0.53499999999999992, 0.52800000000000002, 0.51000000000000001, 0.48499999999999999]\n",
        "1 302 [1.0, 1.0, 1.0, 1.0, 0.98499999999999999, 0.93999999999999995]\n",
        "2 280 [1.0, 1.0, 1.0, 1.0, 0.98999999999999999, 0.93500000000000005]\n",
        "3 233 [1.0, 1.0, 1.0, 0.99499999999999988, 0.97999999999999998, 0.92500000000000004]\n",
        "4 122 [0.97999999999999998, 0.97894999999999999, 0.96499999999999997, 0.95499999999999996, 0.91500000000000004, 0.83749999999999991]\n"
       ]
      }
     ],
     "prompt_number": 47
    },
    {
     "cell_type": "code",
     "collapsed": false,
     "input": [
      "hist(p_better, linspace(0, 1, 101), cumulative=True, normed=True)\n",
      "plot([0,0], [1,1], \"r--\", lw=2)"
     ],
     "language": "python",
     "metadata": {},
     "outputs": [
      {
       "metadata": {},
       "output_type": "pyout",
       "prompt_number": 163,
       "text": [
        "[<matplotlib.lines.Line2D at 0x7f0431e117f0>]"
       ]
      }
     ],
     "prompt_number": 163
    },
    {
     "cell_type": "code",
     "collapsed": false,
     "input": [
      "s, ss"
     ],
     "language": "python",
     "metadata": {},
     "outputs": [
      {
       "metadata": {},
       "output_type": "pyout",
       "prompt_number": 81,
       "text": [
        "(array([1, 0, 0, 0, 0, 0, 0, 0, 0, 0, 0, 0, 0, 0, 0, 0, 0, 1, 0, 0, 0, 0, 0,\n",
        "        0, 0, 0, 0, 0, 0, 0, 0, 0, 0, 0, 0, 0, 0, 0, 1, 0, 0, 0, 0, 0, 0, 0,\n",
        "        0, 0, 0, 0, 0, 0, 0, 0, 0, 0, 0, 0, 0, 0, 0, 0, 0, 0, 0, 0, 0, 0, 0,\n",
        "        0, 0, 0, 1, 0, 1, 0, 0, 0, 0, 1, 1, 0, 0, 0, 0, 0, 0, 0, 0, 0, 0, 0,\n",
        "        0, 1, 0, 0, 0, 0, 0, 0]),\n",
        " array([0, 0, 0, 0, 0, 1, 0, 0, 0, 1, 0, 0, 0, 0, 0, 0, 0, 0, 0, 0, 0, 0, 0,\n",
        "        0, 0, 0, 0, 0, 0, 0, 1, 0, 0, 1, 0, 1, 0, 0, 0, 0, 0, 0, 0, 0, 0, 0,\n",
        "        1, 0, 0, 0, 0, 0, 0, 0, 0, 0, 0, 0, 1, 0, 0, 0, 1, 0, 0, 0, 0, 0, 0,\n",
        "        0, 1, 0, 0, 0, 0, 0, 0, 0, 1, 0, 0, 0, 0, 0, 0, 1, 0, 0, 0, 0, 0, 0,\n",
        "        0, 0, 0, 0, 0, 0, 0, 0]))"
       ]
      }
     ],
     "prompt_number": 81
    },
    {
     "cell_type": "code",
     "collapsed": false,
     "input": [
      "sum(locs <= 0.05) / locs.size, 1 - 0.95 ** 5"
     ],
     "language": "python",
     "metadata": {},
     "outputs": [
      {
       "metadata": {},
       "output_type": "pyout",
       "prompt_number": 15,
       "text": [
        "(0.39000000000000001, 0.22621906250000023)"
       ]
      }
     ],
     "prompt_number": 15
    },
    {
     "cell_type": "code",
     "collapsed": false,
     "input": [
      "np.random.binomial?\n",
      "np.random.binomial(1, 0.05, 100)"
     ],
     "language": "python",
     "metadata": {},
     "outputs": [
      {
       "metadata": {},
       "output_type": "pyout",
       "prompt_number": 55,
       "text": [
        "array([0, 0, 0, 0, 0, 0, 0, 0, 0, 1, 0, 0, 0, 0, 0, 1, 0, 0, 0, 0, 0, 0, 0,\n",
        "       0, 0, 0, 0, 1, 0, 1, 0, 0, 1, 0, 0, 0, 0, 0, 0, 0, 0, 0, 0, 0, 0, 1,\n",
        "       0, 0, 0, 0, 0, 0, 0, 0, 0, 0, 0, 0, 0, 0, 0, 0, 0, 0, 1, 0, 0, 0, 0,\n",
        "       0, 0, 0, 0, 0, 0, 0, 0, 0, 0, 0, 0, 0, 1, 0, 0, 0, 0, 0, 0, 0, 0, 0,\n",
        "       0, 0, 0, 0, 0, 0, 0, 0])"
       ]
      }
     ],
     "prompt_number": 55
    },
    {
     "cell_type": "code",
     "collapsed": false,
     "input": [
      "worse_performance = targetspace.Sample.generate(0, 1, 1000,\n",
      "                                   performance=(\"float\",\n",
      "                                                lambda times: np.abs(stats.norm.rvs(loc=4.5 + 0.5 * 0.54, scale=0.54, size=times.size))),\n",
      "                                   error=(bool, lambda times: stats.binom.rvs(1, 0.05, size=times.size)),\n",
      "                                   freq_evt=(bool, lambda times: stats.binom.rvs(1, 0.2, size=times.size)),\n",
      "                                   rare_evt=(bool, lambda times: stats.binom.rvs(1, 0.01, size=times.size)))\n",
      "worse_error_02 = targetspace.Sample.generate(0, 1, 1000,\n",
      "                                   performance=(\"float\",\n",
      "                                                lambda times: np.abs(stats.norm.rvs(loc=4.5, scale=0.54, size=times.size))),\n",
      "                                   error=(bool, lambda times: stats.binom.rvs(1, 0.05 * 1.2, size=times.size)),\n",
      "                                   freq_evt=(bool, lambda times: stats.binom.rvs(1, 0.2, size=times.size)),\n",
      "                                   rare_evt=(bool, lambda times: stats.binom.rvs(1, 0.01, size=times.size)))"
     ],
     "language": "python",
     "metadata": {},
     "outputs": [],
     "prompt_number": 3
    },
    {
     "cell_type": "code",
     "collapsed": false,
     "input": [],
     "language": "python",
     "metadata": {},
     "outputs": []
    }
   ],
   "metadata": {}
  }
 ]
}