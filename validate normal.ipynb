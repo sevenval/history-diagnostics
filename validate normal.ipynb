{
 "metadata": {
  "name": "",
  "signature": "sha256:313f6b65ad9c9ce3dc464a17dfdb24e6013954c776df4a3444fa08a9f7a0c049"
 },
 "nbformat": 3,
 "nbformat_minor": 0,
 "worksheets": [
  {
   "cells": [
    {
     "cell_type": "code",
     "collapsed": false,
     "input": [
      "from collections import Counter\n",
      "from itertools import product\n",
      "import numpy as np\n",
      "from scipy import stats\n",
      "from history_diagnostics import targetspace"
     ],
     "language": "python",
     "metadata": {},
     "outputs": [],
     "prompt_number": 3
    },
    {
     "cell_type": "code",
     "collapsed": false,
     "input": [
      "%pylab"
     ],
     "language": "python",
     "metadata": {},
     "outputs": [
      {
       "output_type": "stream",
       "stream": "stdout",
       "text": [
        "Using matplotlib backend: Qt4Agg\n",
        "Populating the interactive namespace from numpy and matplotlib\n"
       ]
      },
      {
       "output_type": "stream",
       "stream": "stderr",
       "text": [
        "WARNING: pylab import has clobbered these variables: ['product']\n",
        "`%matplotlib` prevents importing * from pylab and numpy\n"
       ]
      }
     ],
     "prompt_number": 2
    },
    {
     "cell_type": "code",
     "collapsed": false,
     "input": [
      "def evaluate_bootstrap_cdfs(metric, gen_func, n_bs_ref=200, n_test=500):\n",
      "    ref_sample = gen_func()\n",
      "    metric_sample = np.fromiter((metric(np.random.choice(ref_sample, len(ref_sample))) for _ in range(n_bs_ref)),\n",
      "                          dtype=float, count=n_bs_ref)\n",
      "    cdf = targetspace.MetricCDF(metric_sample)\n",
      "    p_better = np.asarray([cdf(metric(gen_func())) for _ in range(n_test)])\n",
      "    return p_better, cdf\n",
      "\n",
      "def evaluate_bootstrap_cdfs_2(metric, gen_func, n_bs_ref=200, n_test=500):\n",
      "    p_better = []\n",
      "    for _ in range(n_test):\n",
      "        ref_sample = gen_func()\n",
      "        test_sample = gen_func()\n",
      "        metric_sample = np.fromiter((metric(np.random.choice(ref_sample, len(ref_sample))) for _ in range(n_bs_ref)),\n",
      "                                    dtype=float, count=n_bs_ref)\n",
      "        cdf = targetspace.MetricCDF(metric_sample)\n",
      "        p_better.append(cdf(metric(test_sample)))\n",
      "    return np.asarray(p_better)"
     ],
     "language": "python",
     "metadata": {},
     "outputs": [],
     "prompt_number": 4
    },
    {
     "cell_type": "code",
     "collapsed": false,
     "input": [
      "def plot_p_better_cdfs_Normal(n_bs_ref, n_test=1000):\n",
      "    figure()\n",
      "    suptitle(\"Normal(0, sig, n) with n_bs_ref={}\".format(n_bs_ref))\n",
      "    plot([0,1], [0,1], \"r--\", lw=2)\n",
      "    bins = linspace(0, 1, 101)\n",
      "    def metric(s):\n",
      "        return s.sum() / len(s)\n",
      "    samp_size_max_exp = 5\n",
      "    for sig_exp in range(0, samp_size_max_exp):\n",
      "        sig = 10**(-sig_exp)\n",
      "        for samp_size_exp in range(0, samp_size_max_exp+1):\n",
      "            samp_size = 10**samp_size_exp\n",
      "            print(sig, samp_size)\n",
      "            samp_gen = lambda: np.random.randn(samp_size) * sig\n",
      "            p_better = evaluate_bootstrap_cdfs_2(metric, samp_gen, n_bs_ref, n_test)\n",
      "            hist(p_better, bins, cumulative=True, normed=True, histtype=\"step\",\n",
      "                 label=\"sig=10^-{} n=10^{}\".format(sig_exp, samp_size_exp))\n",
      "    legend(loc='best')"
     ],
     "language": "python",
     "metadata": {},
     "outputs": [],
     "prompt_number": 7
    },
    {
     "cell_type": "code",
     "collapsed": false,
     "input": [
      "plot_p_better_cdfs_Normal(100)"
     ],
     "language": "python",
     "metadata": {},
     "outputs": [
      {
       "output_type": "stream",
       "stream": "stdout",
       "text": [
        "1 1\n",
        "1"
       ]
      },
      {
       "output_type": "stream",
       "stream": "stdout",
       "text": [
        " 10\n",
        "1"
       ]
      },
      {
       "output_type": "stream",
       "stream": "stdout",
       "text": [
        " 100\n",
        "1"
       ]
      },
      {
       "output_type": "stream",
       "stream": "stdout",
       "text": [
        " 1000\n",
        "1"
       ]
      },
      {
       "output_type": "stream",
       "stream": "stdout",
       "text": [
        " 10000\n",
        "1"
       ]
      },
      {
       "output_type": "stream",
       "stream": "stdout",
       "text": [
        " 100000\n",
        "0.1"
       ]
      },
      {
       "output_type": "stream",
       "stream": "stdout",
       "text": [
        " 1\n",
        "0.1"
       ]
      },
      {
       "output_type": "stream",
       "stream": "stdout",
       "text": [
        " 10\n",
        "0.1"
       ]
      },
      {
       "output_type": "stream",
       "stream": "stdout",
       "text": [
        " 100\n",
        "0.1"
       ]
      },
      {
       "output_type": "stream",
       "stream": "stdout",
       "text": [
        " 1000\n",
        "0.1"
       ]
      },
      {
       "output_type": "stream",
       "stream": "stdout",
       "text": [
        " 10000\n",
        "0.1"
       ]
      },
      {
       "output_type": "stream",
       "stream": "stdout",
       "text": [
        " 100000\n",
        "0.01"
       ]
      },
      {
       "output_type": "stream",
       "stream": "stdout",
       "text": [
        " 1\n",
        "0.01"
       ]
      },
      {
       "output_type": "stream",
       "stream": "stdout",
       "text": [
        " 10\n",
        "0.01"
       ]
      },
      {
       "output_type": "stream",
       "stream": "stdout",
       "text": [
        " 100\n",
        "0.01"
       ]
      },
      {
       "output_type": "stream",
       "stream": "stdout",
       "text": [
        " 1000\n",
        "0.01"
       ]
      },
      {
       "output_type": "stream",
       "stream": "stdout",
       "text": [
        " 10000\n",
        "0.01"
       ]
      },
      {
       "output_type": "stream",
       "stream": "stdout",
       "text": [
        " 100000\n",
        "0.001"
       ]
      },
      {
       "output_type": "stream",
       "stream": "stdout",
       "text": [
        " 1\n",
        "0.001"
       ]
      },
      {
       "output_type": "stream",
       "stream": "stdout",
       "text": [
        " 10\n",
        "0.001"
       ]
      },
      {
       "output_type": "stream",
       "stream": "stdout",
       "text": [
        " 100\n",
        "0.001"
       ]
      },
      {
       "output_type": "stream",
       "stream": "stdout",
       "text": [
        " 1000\n",
        "0.001"
       ]
      },
      {
       "output_type": "stream",
       "stream": "stdout",
       "text": [
        " 10000\n",
        "0.001"
       ]
      },
      {
       "output_type": "stream",
       "stream": "stdout",
       "text": [
        " 100000\n",
        "0.0001"
       ]
      },
      {
       "output_type": "stream",
       "stream": "stdout",
       "text": [
        " 1\n",
        "0.0001"
       ]
      },
      {
       "output_type": "stream",
       "stream": "stdout",
       "text": [
        " 10\n",
        "0.0001"
       ]
      },
      {
       "output_type": "stream",
       "stream": "stdout",
       "text": [
        " 100\n",
        "0.0001"
       ]
      },
      {
       "output_type": "stream",
       "stream": "stdout",
       "text": [
        " 1000\n",
        "0.0001"
       ]
      },
      {
       "output_type": "stream",
       "stream": "stdout",
       "text": [
        " 10000\n",
        "0.0001"
       ]
      },
      {
       "output_type": "stream",
       "stream": "stdout",
       "text": [
        " 100000\n"
       ]
      }
     ],
     "prompt_number": 8
    }
   ],
   "metadata": {}
  }
 ]
}