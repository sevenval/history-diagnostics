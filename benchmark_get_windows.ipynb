{
 "metadata": {
  "name": "",
  "signature": "sha256:9912e70c71d78314e8430de20fc1c9f9ebd6cc5fddc6455abfba2940bc51aafa"
 },
 "nbformat": 3,
 "nbformat_minor": 0,
 "worksheets": [
  {
   "cells": [
    {
     "cell_type": "markdown",
     "metadata": {},
     "source": [
      "# Benchmarking `searchsorted` (1) vs. `unique` (2) based get_windows\n",
      "\n",
      "tl;dr `unique`-based is much faster if there are a lot of empty windows (i.e. sparse data)\n"
     ]
    },
    {
     "cell_type": "code",
     "collapsed": true,
     "input": [
      "import numpy as np"
     ],
     "language": "python",
     "metadata": {},
     "outputs": [],
     "prompt_number": 1
    },
    {
     "cell_type": "markdown",
     "metadata": {},
     "source": [
      "## Old version `searchsorted()`-based."
     ]
    },
    {
     "cell_type": "code",
     "collapsed": false,
     "input": [
      "def get_windows_1(times, window_size, start=None, end=None):\n",
      "        t = times\n",
      "        if start is None:\n",
      "            start = times[0]\n",
      "        if end is None:\n",
      "            end = times[-1]\n",
      "        n_windows = 1 + int((end - start) / window_size)\n",
      "        windows = []\n",
      "        idx_last = 0\n",
      "        num_requests = 0\n",
      "        n_empty = 0\n",
      "        for i_window in range(0, n_windows):\n",
      "            idx_included = np.searchsorted(t[idx_last:] , start + (i_window + 1) * window_size, \"right\")\n",
      "            if idx_included == 0:\n",
      "                n_empty += 1\n",
      "            else:\n",
      "                windows.append(np.arange(idx_last, idx_last + idx_included))\n",
      "                idx_last += idx_included\n",
      "                num_requests += len(windows[-1])\n",
      "        assert num_requests == len(t), (num_requests, len(t))\n",
      "        assert n_windows == len(windows) + n_empty, (n_windows, len(windows), n_empty)\n",
      "\n",
      "        return windows\n",
      "    \n",
      "get_windows_1(np.concatenate((np.zeros(4), np.arange(8))), 0.1)"
     ],
     "language": "python",
     "metadata": {},
     "outputs": [
      {
       "metadata": {},
       "output_type": "pyout",
       "prompt_number": 2,
       "text": [
        "[array([0, 1, 2, 3, 4]),\n",
        " array([5]),\n",
        " array([6]),\n",
        " array([7]),\n",
        " array([8]),\n",
        " array([9]),\n",
        " array([10]),\n",
        " array([11])]"
       ]
      }
     ],
     "prompt_number": 2
    },
    {
     "cell_type": "markdown",
     "metadata": {},
     "source": [
      "## New version `unique()`-based."
     ]
    },
    {
     "cell_type": "code",
     "collapsed": false,
     "input": [
      "def get_windows_2(times, window_size, start=None, end_unused=None):\n",
      "    if start is None:\n",
      "            start = times[0]\n",
      "    window_idx = ((times - start) / window_size).astype(int)\n",
      "    #print(times)\n",
      "    #print(window_idx)\n",
      "    #print(window_size)\n",
      "    first_idx = np.unique(window_idx, return_index=True)[1]\n",
      "    # print(first_idx)\n",
      "    windows = []\n",
      "    for i, j in enumerate(first_idx):\n",
      "        if i < len(first_idx) - 1:\n",
      "            end = first_idx[i+1]\n",
      "        else:\n",
      "            end = len(window_idx)\n",
      "        #print(i, j, end, np.arange(j, end)\n",
      "        windows.append(np.arange(j, end))\n",
      "    return windows\n",
      "\n",
      "get_windows_2(np.concatenate((np.zeros(4), np.arange(8))), 0.1)"
     ],
     "language": "python",
     "metadata": {},
     "outputs": [
      {
       "metadata": {},
       "output_type": "pyout",
       "prompt_number": 3,
       "text": [
        "[array([0, 1, 2, 3, 4]),\n",
        " array([5]),\n",
        " array([6]),\n",
        " array([7]),\n",
        " array([8]),\n",
        " array([9]),\n",
        " array([10]),\n",
        " array([11])]"
       ]
      }
     ],
     "prompt_number": 3
    },
    {
     "cell_type": "code",
     "collapsed": false,
     "input": [
      "data1 = np.concatenate((np.zeros(4), np.arange(8)))\n",
      "data2 = np.random.rand(20)\n",
      "data2.sort()\n",
      "data3 = np.random.rand(1000)\n",
      "data3.sort()"
     ],
     "language": "python",
     "metadata": {},
     "outputs": [],
     "prompt_number": 5
    },
    {
     "cell_type": "markdown",
     "metadata": {},
     "source": [
      "### Verify that both algorithms give the same results"
     ]
    },
    {
     "cell_type": "code",
     "collapsed": false,
     "input": [
      "r1 = get_windows_1(data3, 1e-3)\n",
      "r2 = get_windows_2(data3, 1e-3)\n",
      "print(\"same length\" if len(r1) == len(r2) else \"different length!\")\n",
      "for i1, i2 in zip(r1, r2):\n",
      "    if len(i1) != len(i2) or (i1 != i2).any():\n",
      "        print(i1, i2)\n",
      "        break\n",
      "else:\n",
      "    print(\"equal items\")"
     ],
     "language": "python",
     "metadata": {},
     "outputs": [
      {
       "output_type": "stream",
       "stream": "stdout",
       "text": [
        "same length\n",
        "equal items\n"
       ]
      }
     ],
     "prompt_number": 14
    },
    {
     "cell_type": "markdown",
     "metadata": {},
     "source": [
      "## Benchmarking results"
     ]
    },
    {
     "cell_type": "code",
     "collapsed": false,
     "input": [
      "for n, data in enumerate((data1, data2, data3), 1):\n",
      "    print(\"data #{}\".format(n))\n",
      "    for sz in (0.1, 0.01, 0.001, 1e-4):\n",
      "        print(\"  window size: {}\".format(sz))\n",
      "        print(\"    1:\", end=\"\")\n",
      "        %timeit get_windows_1(data3, sz, 0, 7)\n",
      "        print(\"    2:\", end=\"\")\n",
      "        %timeit get_windows_2(data3, sz, 0, 7)"
     ],
     "language": "python",
     "metadata": {},
     "outputs": [
      {
       "output_type": "stream",
       "stream": "stdout",
       "text": [
        "data #1\n",
        "  window size: 0.1\n",
        "    1:10000 loops, best of 3: 185 \u00b5s per loop"
       ]
      },
      {
       "output_type": "stream",
       "stream": "stdout",
       "text": [
        "\n",
        "    2:10000 loops, best of 3: 61.2 \u00b5s per loop"
       ]
      },
      {
       "output_type": "stream",
       "stream": "stdout",
       "text": [
        "\n",
        "  window size: 0.01\n",
        "    1:1000 loops, best of 3: 1.84 ms per loop"
       ]
      },
      {
       "output_type": "stream",
       "stream": "stdout",
       "text": [
        "\n",
        "    2:1000 loops, best of 3: 283 \u00b5s per loop"
       ]
      },
      {
       "output_type": "stream",
       "stream": "stdout",
       "text": [
        "\n",
        "  window size: 0.001\n",
        "    1:100 loops, best of 3: 17.4 ms per loop"
       ]
      },
      {
       "output_type": "stream",
       "stream": "stdout",
       "text": [
        "\n",
        "    2:1000 loops, best of 3: 1.59 ms per loop"
       ]
      },
      {
       "output_type": "stream",
       "stream": "stdout",
       "text": [
        "\n",
        "  window size: 0.0001\n",
        "    1:10 loops, best of 3: 160 ms per loop"
       ]
      },
      {
       "output_type": "stream",
       "stream": "stdout",
       "text": [
        "\n",
        "    2:100 loops, best of 3: 2.5 ms per loop"
       ]
      },
      {
       "output_type": "stream",
       "stream": "stdout",
       "text": [
        "\n",
        "data #2\n",
        "  window size: 0.1\n",
        "    1:10000 loops, best of 3: 196 \u00b5s per loop"
       ]
      },
      {
       "output_type": "stream",
       "stream": "stdout",
       "text": [
        "\n",
        "    2:10000 loops, best of 3: 63.6 \u00b5s per loop"
       ]
      },
      {
       "output_type": "stream",
       "stream": "stdout",
       "text": [
        "\n",
        "  window size: 0.01\n",
        "    1:100 loops, best of 3: 1.9 ms per loop"
       ]
      },
      {
       "output_type": "stream",
       "stream": "stdout",
       "text": [
        "\n",
        "    2:1000 loops, best of 3: 283 \u00b5s per loop"
       ]
      },
      {
       "output_type": "stream",
       "stream": "stdout",
       "text": [
        "\n",
        "  window size: 0.001\n",
        "    1:100 loops, best of 3: 18 ms per loop"
       ]
      },
      {
       "output_type": "stream",
       "stream": "stdout",
       "text": [
        "\n",
        "    2:1000 loops, best of 3: 1.61 ms per loop"
       ]
      },
      {
       "output_type": "stream",
       "stream": "stdout",
       "text": [
        "\n",
        "  window size: 0.0001\n",
        "    1:10 loops, best of 3: 167 ms per loop"
       ]
      },
      {
       "output_type": "stream",
       "stream": "stdout",
       "text": [
        "\n",
        "    2:100 loops, best of 3: 2.38 ms per loop"
       ]
      },
      {
       "output_type": "stream",
       "stream": "stdout",
       "text": [
        "\n",
        "data #3\n",
        "  window size: 0.1\n",
        "    1:10000 loops, best of 3: 196 \u00b5s per loop"
       ]
      },
      {
       "output_type": "stream",
       "stream": "stdout",
       "text": [
        "\n",
        "    2:10000 loops, best of 3: 62 \u00b5s per loop"
       ]
      },
      {
       "output_type": "stream",
       "stream": "stdout",
       "text": [
        "\n",
        "  window size: 0.01\n",
        "    1:100 loops, best of 3: 1.87 ms per loop"
       ]
      },
      {
       "output_type": "stream",
       "stream": "stdout",
       "text": [
        "\n",
        "    2:1000 loops, best of 3: 279 \u00b5s per loop"
       ]
      },
      {
       "output_type": "stream",
       "stream": "stdout",
       "text": [
        "\n",
        "  window size: 0.001\n",
        "    1:100 loops, best of 3: 18 ms per loop"
       ]
      },
      {
       "output_type": "stream",
       "stream": "stdout",
       "text": [
        "\n",
        "    2:1000 loops, best of 3: 1.6 ms per loop"
       ]
      },
      {
       "output_type": "stream",
       "stream": "stdout",
       "text": [
        "\n",
        "  window size: 0.0001\n",
        "    1:10 loops, best of 3: 165 ms per loop"
       ]
      },
      {
       "output_type": "stream",
       "stream": "stdout",
       "text": [
        "\n",
        "    2:100 loops, best of 3: 2.37 ms per loop"
       ]
      },
      {
       "output_type": "stream",
       "stream": "stdout",
       "text": [
        "\n"
       ]
      }
     ],
     "prompt_number": 13
    }
   ],
   "metadata": {}
  }
 ]
}